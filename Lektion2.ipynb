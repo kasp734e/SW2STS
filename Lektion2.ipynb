{
 "cells": [
  {
   "cell_type": "markdown",
   "metadata": {},
   "source": [
    "# Kapitel 1.5"
   ]
  },
  {
   "cell_type": "markdown",
   "metadata": {},
   "source": [
    "### Problem 22\n",
    "$70\\%$ køber en kop kaffe\n",
    "\n",
    "$40\\%$ køber et stykke kage \n",
    "\n",
    "$20\\%$ køber kaffe og kage\n",
    "\n",
    "__Hvis en kunde har købt et stykke kage hvad er sandsynligheden for at de købet en kop kaffe?__\n",
    "\n",
    "$Pr(A|B)=\\frac{Pr(A\\cap B)}{Pr(B)}$"
   ]
  },
  {
   "cell_type": "code",
   "execution_count": 1,
   "metadata": {},
   "outputs": [
    {
     "name": "stdout",
     "output_type": "stream",
     "text": [
      "0.5\n"
     ]
    }
   ],
   "source": [
    "print(0.2/0.4)"
   ]
  },
  {
   "cell_type": "markdown",
   "metadata": {},
   "source": [
    "### Problem 23"
   ]
  },
  {
   "cell_type": "markdown",
   "metadata": {},
   "source": [
    "### a\n",
    "$P(A|B)=\\frac{P(A\\cap B)}{P(B)}=\\frac{0,2}{0,1+0,1+0,1+0,05}$"
   ]
  },
  {
   "cell_type": "code",
   "execution_count": 3,
   "metadata": {},
   "outputs": [
    {
     "name": "stdout",
     "output_type": "stream",
     "text": [
      "0.5714285714285714\n"
     ]
    }
   ],
   "source": [
    "print(0.2/(0.1+0.1+0.1+0.05))"
   ]
  },
  {
   "cell_type": "markdown",
   "metadata": {},
   "source": [
    "### b\n",
    "$P(C|B)=\\frac{P(C\\cap B)}{P(B)}=\\frac{0,05+0,1}{0,1+0,1+0,1+0,05}$"
   ]
  },
  {
   "cell_type": "code",
   "execution_count": 4,
   "metadata": {},
   "outputs": [
    {
     "name": "stdout",
     "output_type": "stream",
     "text": [
      "0.4285714285714286\n"
     ]
    }
   ],
   "source": [
    "print((0.05+0.1)/(0.1+0.1+0.1+0.05))"
   ]
  },
  {
   "cell_type": "markdown",
   "metadata": {},
   "source": [
    "### c\n",
    "\n",
    "$P( B|A \\cup C)=\\frac{P(B\\cap (A\\cup C))}{P(A \\cup C)}$\n",
    "\n",
    "$A\\cup C=0,2+0,1+0,1+0,1+0,05+0,15$\n",
    "\n",
    "$\\frac{0,1+0,1+0,05}{0,2+0,1+0,1+0,1+0,05+0,15}$"
   ]
  },
  {
   "cell_type": "code",
   "execution_count": 5,
   "metadata": {},
   "outputs": [
    {
     "name": "stdout",
     "output_type": "stream",
     "text": [
      "0.3571428571428571\n"
     ]
    }
   ],
   "source": [
    "print((0.1+0.1+0.05)/(0.2+0.1+0.1+0.1+0.05+0.15))"
   ]
  },
  {
   "cell_type": "markdown",
   "metadata": {},
   "source": [
    "### Problem 25\n",
    "$600$ i klassen\n",
    "\n",
    "$120$ fik A\n",
    "\n",
    "$200$ bor på campus\n",
    "\n",
    "$80$ boede ikke på campus og fik A\n",
    "\n",
    "---\n",
    "\n",
    "$600-200=400$ bor ikke på campus\n",
    "\n",
    "$120-80=40$ boede på campus og fik A\n",
    "\n",
    "---\n",
    "$P(fikA)=\\frac{120}{600}=0,2$\n",
    "\n",
    "$P(fikA|borPaaCampus)=\\frac{P(fikA\\ \\cap \\ borPaaCampus)}{P(borPaaCampus)}=\\frac{40}{200}=0,2$"
   ]
  },
  {
   "cell_type": "code",
   "execution_count": 8,
   "metadata": {},
   "outputs": [
    {
     "name": "stdout",
     "output_type": "stream",
     "text": [
      "0.2\n",
      "0.2\n"
     ]
    }
   ],
   "source": [
    "classnr = 600\n",
    "fikA = 120\n",
    "borPaaCampus = 200\n",
    "boedeIkkePaaCampusFikA = 80\n",
    "\n",
    "borIkkePaaCampus = classnr-borPaaCampus\n",
    "borPaaCampusFikA = fikA-boedeIkkePaaCampusFikA\n",
    "\n",
    "print(borPaaCampusFikA/borPaaCampus)\n",
    "print(boedeIkkePaaCampusFikA/borIkkePaaCampus)\n"
   ]
  },
  {
   "cell_type": "markdown",
   "metadata": {},
   "source": [
    "### Problem 31\n",
    "\n",
    "$50\\%$ af mails er spam\n",
    "\n",
    "$1\\%$ af spam indeholder \"refinance\"\n",
    "\n",
    "$0,001\\%$ af ikke spam indeholder \"refinance\""
   ]
  }
 ],
 "metadata": {
  "kernelspec": {
   "display_name": "base",
   "language": "python",
   "name": "python3"
  },
  "language_info": {
   "codemirror_mode": {
    "name": "ipython",
    "version": 3
   },
   "file_extension": ".py",
   "mimetype": "text/x-python",
   "name": "python",
   "nbconvert_exporter": "python",
   "pygments_lexer": "ipython3",
   "version": "3.11.4"
  }
 },
 "nbformat": 4,
 "nbformat_minor": 2
}
